{
 "cells": [
  {
   "cell_type": "markdown",
   "metadata": {},
   "source": [
    "### 시간대별 승하차 인원 검색\n",
    "\n",
    "* 데이터출처 : 티머니(https://www.t-money.co.kr/)\n",
    "* 데이터는 2019년 1월 기준이다.\n",
    "* 출근시간(7-9시), 퇴근시간(18-20시)에 승하차 인원이 가장 많은 역은 어디일까?\n",
    "* 내가 타고 내리는 역은 왜 앉을 자리가 없을까?"
   ]
  },
  {
   "cell_type": "code",
   "execution_count": 14,
   "metadata": {},
   "outputs": [
    {
     "name": "stdout",
     "output_type": "stream",
     "text": [
      "7 ~ 9시 승차인원 가장 많은 역 : 신림(2호선) / 인원 수 : 809541\n"
     ]
    }
   ],
   "source": [
    "import csv\n",
    "\n",
    "f = open('data/subwaytime.csv')\n",
    "data = csv.reader(f)\n",
    "next(data)\n",
    "next(data)\n",
    "mx = 0\n",
    "mx_station = ''\n",
    "\n",
    "for row in data :\n",
    "    row[4: ] = map(int, row[4: ])\n",
    "    if sum(row[10:15:2]) > mx :\n",
    "        mx = sum(row[10:15:2])                               # 7 ~ 9시 승차 인원 가장 많은 곳 \n",
    "        mx_station = row[3] + '(' + row[1] + ')'\n",
    "print('7 ~ 9시 승차인원 가장 많은 역 :', mx_station, '/ 인원 수 :', mx)"
   ]
  },
  {
   "cell_type": "code",
   "execution_count": 15,
   "metadata": {},
   "outputs": [
    {
     "name": "stdout",
     "output_type": "stream",
     "text": [
      "7 ~ 9시 하차인원 가장 많은 역 : 강남(2호선) / 인원 수 : 984427\n"
     ]
    }
   ],
   "source": [
    "import csv\n",
    "\n",
    "f = open('data/subwaytime.csv')\n",
    "data = csv.reader(f)\n",
    "next(data)\n",
    "next(data)\n",
    "mx = 0\n",
    "mx_station = ''\n",
    "\n",
    "for row in data :\n",
    "    row[4: ] = map(int, row[4: ])\n",
    "    if sum(row[11:16:2]) > mx :\n",
    "        # 7 ~ 9시 하차 인원 가장 많은 곳 \n",
    "        mx = sum(row[11:16:2])\n",
    "        mx_station = row[3] + '(' + row[1] + ')'\n",
    "print('7 ~ 9시 하차인원 가장 많은 역 :', mx_station, '/ 인원 수 :', mx)"
   ]
  },
  {
   "cell_type": "code",
   "execution_count": 16,
   "metadata": {},
   "outputs": [
    {
     "name": "stdout",
     "output_type": "stream",
     "text": [
      "18 ~ 20시 승차인원 가장 많은 역 : 강남(2호선) / 인원 수 : 959125\n"
     ]
    }
   ],
   "source": [
    "import csv\n",
    "\n",
    "f = open('data/subwaytime.csv')\n",
    "data = csv.reader(f)\n",
    "next(data)\n",
    "next(data)\n",
    "mx = 0\n",
    "mx_station = ''\n",
    "\n",
    "for row in data :\n",
    "    row[4: ] = map(int, row[4: ])\n",
    "    if sum(row[32:37:2]) > mx :\n",
    "        mx = sum(row[32:37:2])                               # 18 ~ 20시 승차 인원 가장 많은 곳 \n",
    "        mx_station = row[3] + '(' + row[1] + ')'\n",
    "print('18 ~ 20시 승차인원 가장 많은 역 :', mx_station, '/ 인원 수 :', mx)"
   ]
  },
  {
   "cell_type": "code",
   "execution_count": 17,
   "metadata": {},
   "outputs": [
    {
     "name": "stdout",
     "output_type": "stream",
     "text": [
      "18 ~ 20시 하차인원 가장 많은 역 : 신림(2호선) / 인원 수 : 733480\n"
     ]
    }
   ],
   "source": [
    "import csv\n",
    "\n",
    "f = open('data/subwaytime.csv')\n",
    "data = csv.reader(f)\n",
    "next(data)\n",
    "next(data)\n",
    "mx = 0\n",
    "mx_station = ''\n",
    "\n",
    "for row in data :\n",
    "    row[4: ] = map(int, row[4: ])\n",
    "    if sum(row[33:38:2]) > mx :\n",
    "        mx = sum(row[33:38:2])                               # 18 ~ 20시 하차 인원 가장 많은 곳 \n",
    "        mx_station = row[3] + '(' + row[1] + ')'\n",
    "print('18 ~ 20시 하차인원 가장 많은 역 :', mx_station, '/ 인원 수 :', mx)"
   ]
  },
  {
   "cell_type": "code",
   "execution_count": 31,
   "metadata": {},
   "outputs": [
    {
     "name": "stdout",
     "output_type": "stream",
     "text": [
      "알고 싶은 역의 이름을 적어주세요 : ___역\n",
      "사당\n"
     ]
    },
    {
     "data": {
      "image/png": "[encoded data removed]",
      "text/plain": [
       "<Figure size 432x288 with 1 Axes>"
      ]
     },
     "metadata": {
      "needs_background": "light"
     },
     "output_type": "display_data"
    }
   ],
   "source": [
    "import csv\n",
    "import matplotlib.pyplot as plt\n",
    "\n",
    "f = open('data/subwaytime.csv')\n",
    "data = csv.reader(f)\n",
    "next(data)\n",
    "next(data)\n",
    "s_in = [0] * 24                                         # 시간대별 승하차 인원 저장할 리스트\n",
    "s_out = [0] * 24\n",
    "target_station = input('알고 싶은 역의 이름을 적어주세요 : ___역\\n')\n",
    "\n",
    "for row in data :\n",
    "    row[4: ] = map(int, row[4: ])\n",
    "    if target_station == row[3] :\n",
    "        for i in range(24) :\n",
    "            s_in[i] = s_in[i] + row[i * 2 + 4]             # 승차 인덱스 4, 6, 8, ...\n",
    "            s_out[i] = s_out[i] + row[i * 2 + 5]           # 하차 인덱스 5, 7, 9, ...\n",
    "        \n",
    "plt.rc('font', family = 'Malgun Gothic')\n",
    "plt.title(target_station + '역 시간대별 승하차 인원 추이', fontsize = 20)\n",
    "plt.plot(s_in, label = '승차')\n",
    "plt.plot(s_out, label = '하차')\n",
    "plt.legend()\n",
    "plt.xticks(range(24), range(4, 28))\n",
    "plt.show()"
   ]
  },
  {
   "cell_type": "code",
   "execution_count": null,
   "metadata": {},
   "outputs": [],
   "source": []
  }
 ],
 "metadata": {
  "kernelspec": {
   "display_name": "Python 3",
   "language": "python",
   "name": "python3"
  },
  "language_info": {
   "codemirror_mode": {
    "name": "ipython",
    "version": 3
   },
   "file_extension": ".py",
   "mimetype": "text/x-python",
   "name": "python",
   "nbconvert_exporter": "python",
   "pygments_lexer": "ipython3",
   "version": "3.7.6"
  }
 },
 "nbformat": 4,
 "nbformat_minor": 4
}
